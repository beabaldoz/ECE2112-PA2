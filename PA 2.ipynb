{
 "cells": [
  {
   "cell_type": "markdown",
   "id": "dc97bcbe-2719-4b44-9bba-6d27fb951a1d",
   "metadata": {},
   "source": [
    "# NORMALIZATION PROBLEM"
   ]
  },
  {
   "cell_type": "code",
   "execution_count": 1,
   "id": "f337f7a3-78cf-4eab-a564-5d6c7fa02849",
   "metadata": {},
   "outputs": [],
   "source": [
    "import numpy as np"
   ]
  },
  {
   "cell_type": "code",
   "execution_count": 3,
   "id": "2712dd40-da32-47c8-8887-e22a9fafcdeb",
   "metadata": {},
   "outputs": [],
   "source": [
    "X = np.random.rand(5,5)"
   ]
  },
  {
   "cell_type": "code",
   "execution_count": 19,
   "id": "c2970d71-ea72-41ac-9c59-3f4554d1e95a",
   "metadata": {},
   "outputs": [],
   "source": [
    "mean_X = X.mean()"
   ]
  },
  {
   "cell_type": "code",
   "execution_count": 21,
   "id": "8e06cbaa-74a7-4d45-8400-a02e29e91df1",
   "metadata": {},
   "outputs": [],
   "source": [
    "std_X = X.std()"
   ]
  },
  {
   "cell_type": "code",
   "execution_count": 9,
   "id": "082bca14-d36e-4bda-8927-4f23e3cd3df4",
   "metadata": {},
   "outputs": [],
   "source": [
    "Z = (X - mean_X) / std_X"
   ]
  },
  {
   "cell_type": "code",
   "execution_count": 13,
   "id": "8b666dc6-4fda-427e-bae1-5b0ecd39f029",
   "metadata": {},
   "outputs": [],
   "source": [
    "np.save('X_normalized.npy',Z)"
   ]
  },
  {
   "cell_type": "code",
   "execution_count": 25,
   "id": "f428ff65-8767-4521-baa2-b63e2692f492",
   "metadata": {},
   "outputs": [
    {
     "name": "stdout",
     "output_type": "stream",
     "text": [
      "Normalized Array:\n",
      "[[-1.37059385 -1.07142302 -0.9461819   1.10453134 -0.55338472]\n",
      " [-0.84568085  1.41172571  0.99379709  1.70109097  1.10319515]\n",
      " [ 1.02914526  0.10091212  1.58869072 -0.96845476  0.20668328]\n",
      " [-1.32255402 -1.40490696 -0.40299825  0.65652724 -0.43826402]\n",
      " [ 0.00771711  0.756653   -0.70039096 -1.1539593   0.51812363]]\n",
      "Normalized array saved to 'X_normalized.npy'\n"
     ]
    }
   ],
   "source": [
    "print(\"Normalized Array:\")\n",
    "print(X_normalized)\n",
    "\n",
    "print(\"Normalized array saved to 'X_normalized.npy'\")"
   ]
  },
  {
   "cell_type": "markdown",
   "id": "ce31b298-b55a-426f-b089-068638835410",
   "metadata": {},
   "source": [
    "# DIVISIBLE BY 3 PROBLEM"
   ]
  },
  {
   "cell_type": "code",
   "execution_count": 29,
   "id": "71452d51-d1f9-4fbd-b7f6-38ec9f6c7064",
   "metadata": {},
   "outputs": [],
   "source": [
    "import numpy as np"
   ]
  },
  {
   "cell_type": "code",
   "execution_count": 31,
   "id": "08db573d-4538-4bc0-9462-03bdf59df346",
   "metadata": {},
   "outputs": [],
   "source": [
    "numbers = np.arange(1, 101)"
   ]
  },
  {
   "cell_type": "code",
   "execution_count": 33,
   "id": "882a804d-73cc-45fe-97ee-41e92c2ee8e7",
   "metadata": {},
   "outputs": [],
   "source": [
    "sqr = integers**2"
   ]
  },
  {
   "cell_type": "code",
   "execution_count": 35,
   "id": "e5c76280-d985-473c-8a83-f00a3505cf9b",
   "metadata": {},
   "outputs": [],
   "source": [
    "A = sqr.reshape(10,10)"
   ]
  },
  {
   "cell_type": "code",
   "execution_count": 37,
   "id": "9d3b2391-32a6-475f-a427-0c63dced8d04",
   "metadata": {},
   "outputs": [],
   "source": [
    "div_by_3 = A[A%3==0]"
   ]
  },
  {
   "cell_type": "code",
   "execution_count": 39,
   "id": "aed2d250-054e-4015-a111-4487710a5723",
   "metadata": {},
   "outputs": [],
   "source": [
    "np.save('div_by_3.npy', div_by_3)"
   ]
  },
  {
   "cell_type": "code",
   "execution_count": 47,
   "id": "d9e8d9e9-9b7f-4ad8-976f-f53fda2ee392",
   "metadata": {},
   "outputs": [
    {
     "name": "stdout",
     "output_type": "stream",
     "text": [
      "Squares of the first 100 positive integers:\n",
      "[[    1     4     9    16    25    36    49    64    81   100]\n",
      " [  121   144   169   196   225   256   289   324   361   400]\n",
      " [  441   484   529   576   625   676   729   784   841   900]\n",
      " [  961  1024  1089  1156  1225  1296  1369  1444  1521  1600]\n",
      " [ 1681  1764  1849  1936  2025  2116  2209  2304  2401  2500]\n",
      " [ 2601  2704  2809  2916  3025  3136  3249  3364  3481  3600]\n",
      " [ 3721  3844  3969  4096  4225  4356  4489  4624  4761  4900]\n",
      " [ 5041  5184  5329  5476  5625  5776  5929  6084  6241  6400]\n",
      " [ 6561  6724  6889  7056  7225  7396  7569  7744  7921  8100]\n",
      " [ 8281  8464  8649  8836  9025  9216  9409  9604  9801 10000]]\n"
     ]
    }
   ],
   "source": [
    "print(\"Squares of the first 100 positive integers:\")\n",
    "print(A)"
   ]
  },
  {
   "cell_type": "code",
   "execution_count": 51,
   "id": "4c87713c-7d64-4fcc-853c-cc72781904c6",
   "metadata": {},
   "outputs": [
    {
     "name": "stdout",
     "output_type": "stream",
     "text": [
      "Elements in the array that are divisible by 3:\n",
      "[   9   36   81  144  225  324  441  576  729  900 1089 1296 1521 1764\n",
      " 2025 2304 2601 2916 3249 3600 3969 4356 4761 5184 5625 6084 6561 7056\n",
      " 7569 8100 8649 9216 9801]\n"
     ]
    }
   ],
   "source": [
    "print(\"Elements in the array that are divisible by 3:\")\n",
    "print(div_by_3)"
   ]
  }
 ],
 "metadata": {
  "kernelspec": {
   "display_name": "Python 3 (ipykernel)",
   "language": "python",
   "name": "python3"
  },
  "language_info": {
   "codemirror_mode": {
    "name": "ipython",
    "version": 3
   },
   "file_extension": ".py",
   "mimetype": "text/x-python",
   "name": "python",
   "nbconvert_exporter": "python",
   "pygments_lexer": "ipython3",
   "version": "3.12.4"
  }
 },
 "nbformat": 4,
 "nbformat_minor": 5
}
